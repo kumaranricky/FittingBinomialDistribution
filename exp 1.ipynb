{
 "cells": [
  {
   "cell_type": "code",
   "execution_count": 1,
   "id": "95b64824",
   "metadata": {},
   "outputs": [
    {
     "name": "stdout",
     "output_type": "stream",
     "text": [
      "  X P(X=x) Obs.Fr  Ex.Fre   xi \n",
      "----------------------------------\n",
      "0.00 0.00  13.00   0.00  inf\n",
      "1.00 7.42  25.00   1558.23  1508.64\n",
      "2.00 29.68  52.00   6232.94  6129.37\n",
      "3.00 44.52  68.00   9349.40  9213.90\n",
      "4.00 29.68  32.00   6232.94  6169.10\n",
      "5.00 7.42  16.00   1558.23  1526.40\n",
      "6.00 0.00  4.00   0.00  inf\n",
      "----------------------------------\n",
      "Calculated value of Chi square is  inf\n",
      "Table value of Chi square at 1  level is 16.81\n",
      "The given data cannot be fitted in binomial distribution at 1% LOS\n"
     ]
    },
    {
     "name": "stderr",
     "output_type": "stream",
     "text": [
      "<ipython-input-1-de30d1e812bc>:19: RuntimeWarning: divide by zero encountered in double_scalars\n",
      "  xi.append((f[x]-E[x])**2/E[x])\n"
     ]
    }
   ],
   "source": [
    "import numpy as np\n",
    "import math\n",
    "import scipy.stats\n",
    "\n",
    "X=[0,1,2,3,4,5,6]\n",
    "f=[13,25,52,68,32,16,4]\n",
    "n=6\n",
    "N=np.sum(f)\n",
    "mean=np.inner(X,f)/N\n",
    "p=mean/n\n",
    "q=1-p\n",
    "Pr=list(); E=list(); xi=list()\n",
    "print(\"  X P(X=x) Obs.Fr  Ex.Fre   xi \")\n",
    "print(\"----------------------------------\")\n",
    "for x in range(7):\n",
    "    c=math.factorial(n)/(math.factorial(x)*math.factorial(n-x))\n",
    "    Pr.append(c*p*x*q*(n-x))\n",
    "    E.append(Pr[x]*N)\n",
    "    xi.append((f[x]-E[x])**2/E[x])\n",
    "    print(\"%2.2f %2.2f  %4.2f   %3.2f  %3.2f\"%(x,Pr[x],f[x],E[x],xi[x]))\n",
    "print(\"----------------------------------\")\n",
    "cal_chi2=np.sum(xi)\n",
    "print(\"Calculated value of Chi square is %4.2f\"%cal_chi2)\n",
    "tab_chi2=scipy.stats.chi2.ppf(1-.01, df=n)\n",
    "print(\"Table value of Chi square at 1  level is %4.2f\"%tab_chi2)\n",
    "if cal_chi2<tab_chi2:\n",
    "    print(\"The given data can be fitted in binomial distribution at 1% LOS\")\n",
    "else:\n",
    "    print(\"The given data cannot be fitted in binomial distribution at 1% LOS\")"
   ]
  },
  {
   "cell_type": "code",
   "execution_count": null,
   "id": "e9f96eea",
   "metadata": {},
   "outputs": [],
   "source": []
  }
 ],
 "metadata": {
  "kernelspec": {
   "display_name": "Python 3",
   "language": "python",
   "name": "python3"
  },
  "language_info": {
   "codemirror_mode": {
    "name": "ipython",
    "version": 3
   },
   "file_extension": ".py",
   "mimetype": "text/x-python",
   "name": "python",
   "nbconvert_exporter": "python",
   "pygments_lexer": "ipython3",
   "version": "3.8.8"
  }
 },
 "nbformat": 4,
 "nbformat_minor": 5
}
